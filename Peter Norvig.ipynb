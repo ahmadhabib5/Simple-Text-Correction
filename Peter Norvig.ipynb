{
 "cells": [
  {
   "cell_type": "code",
   "execution_count": 1,
   "metadata": {},
   "outputs": [],
   "source": [
    "from tqdm.notebook import tqdm"
   ]
  },
  {
   "cell_type": "code",
   "execution_count": 2,
   "metadata": {},
   "outputs": [],
   "source": [
    "vocab = open(\"vocab_23_05_2022.txt\", \"r\").readlines()\n",
    "vocab = [w[:-1] for w in vocab]\n",
    "vocab = list(set(vocab))\n",
    "vocab.sort()\n",
    "w_rank = {}\n",
    "for i,word in enumerate(vocab):\n",
    "    w_rank[word] = i\n",
    "\n",
    "WORDS = w_rank"
   ]
  },
  {
   "cell_type": "code",
   "execution_count": 4,
   "metadata": {},
   "outputs": [],
   "source": [
    "import re\n",
    "from collections import Counter\n",
    "\n",
    "def words(text): return re.findall(r'\\w+', text.lower())\n",
    "\n",
    "def P(word): \n",
    "    \"Probability of `word`.\"\n",
    "    # use inverse of rank as proxy\n",
    "    # returns 0 if the word isn't in the dictionary\n",
    "    return - WORDS.get(word, 0)\n",
    "\n",
    "def correction(word): \n",
    "    \"Most probable spelling correction for word.\"\n",
    "    return max(candidates(word), key=P)\n",
    "\n",
    "def candidates(word): \n",
    "    \"Generate possible spelling corrections for word.\"\n",
    "    return (known([word]) or known(edits1(word)) or known(edits2(word)) or [word])\n",
    "\n",
    "def known(words): \n",
    "    \"The subset of `words` that appear in the dictionary of WORDS.\"\n",
    "    return set(w for w in words if w in WORDS)\n",
    "\n",
    "def edits1(word):\n",
    "    \"All edits that are one edit away from `word`.\"\n",
    "    letters    = 'abcdefghijklmnopqrstuvwxyz'\n",
    "    splits     = [(word[:i], word[i:])    for i in range(len(word) + 1)]\n",
    "    deletes    = [L + R[1:]               for L, R in splits if R]\n",
    "    transposes = [L + R[1] + R[0] + R[2:] for L, R in splits if len(R)>1]\n",
    "    replaces   = [L + c + R[1:]           for L, R in splits if R for c in letters]\n",
    "    inserts    = [L + c + R               for L, R in splits for c in letters]\n",
    "    return set(deletes + transposes + replaces + inserts)\n",
    "\n",
    "def edits2(word): \n",
    "    \"All edits that are two edits away from `word`.\"\n",
    "    return (e2 for e1 in edits1(word) for e2 in edits1(e1))"
   ]
  },
  {
   "cell_type": "code",
   "execution_count": 7,
   "metadata": {},
   "outputs": [],
   "source": [
    "check = [\"jkowi\", \"scperti\", \"scpert1\", \"mcnjadi\",\n",
    "         \"menjad1\", \"mcnjad1\", \"kejasamanya\",\n",
    "         \"oklober\", \"februar1\", \"fcbruari\", \"menyeiesaikan\",\n",
    "         \"perihat\", \"keperiuan\", \"gmaii\", \"pakjokowi\",\n",
    "         \"dipcrsengketakan\", \"indoenesia\", \"memberika\"\n",
    "        ]"
   ]
  },
  {
   "cell_type": "code",
   "execution_count": 8,
   "metadata": {},
   "outputs": [
    {
     "name": "stdout",
     "output_type": "stream",
     "text": [
      "jkowi -> jokowi\n",
      "scperti -> seperti\n",
      "scpert1 -> seperti\n",
      "mcnjadi -> menjadi\n",
      "menjad1 -> menjadi\n",
      "mcnjad1 -> menjadi\n",
      "kejasamanya -> kerjasamanya\n",
      "oklober -> oktober\n",
      "februar1 -> februari\n",
      "fcbruari -> februari\n",
      "menyeiesaikan -> menyelesaikan\n",
      "perihat -> perihal\n",
      "keperiuan -> keperluan\n",
      "gmaii -> gmail\n",
      "pakjokowi -> pakjokowi\n",
      "dipcrsengketakan -> dipersengketakan\n",
      "indoenesia -> indonesia\n",
      "memberika -> memberikan\n"
     ]
    }
   ],
   "source": [
    "for c in check:\n",
    "    print(\"{} -> {}\".format(c, correction(c)))"
   ]
  },
  {
   "cell_type": "code",
   "execution_count": null,
   "metadata": {},
   "outputs": [],
   "source": []
  }
 ],
 "metadata": {
  "interpreter": {
   "hash": "3a57a49c83e21c5fed21189baa3d3cdf771718b5cff9fab4c7a23d4007eab4a2"
  },
  "kernelspec": {
   "display_name": "Python 3.8.0 ('skripsi')",
   "language": "python",
   "name": "python3"
  },
  "language_info": {
   "codemirror_mode": {
    "name": "ipython",
    "version": 3
   },
   "file_extension": ".py",
   "mimetype": "text/x-python",
   "name": "python",
   "nbconvert_exporter": "python",
   "pygments_lexer": "ipython3",
   "version": "3.9.5"
  },
  "orig_nbformat": 4
 },
 "nbformat": 4,
 "nbformat_minor": 2
}
